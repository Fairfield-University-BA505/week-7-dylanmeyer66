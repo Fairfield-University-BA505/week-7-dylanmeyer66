{
 "cells": [
  {
   "cell_type": "markdown",
   "metadata": {},
   "source": [
    "# Python Review & Exercises\n",
    "\n",
    "These exercise questions are developed to help you review concepts and skills we covered in the first half of the class, where we prepare you to get started with following topics:\n",
    "\n",
    "- Variables, Statements, Expressions\n",
    "- Operators and Calculations\n",
    "- If statements\n",
    "- Function definitions and calls\n",
    "- Iterations (at least for loops)\n",
    "- strings\n",
    "- lists\n",
    "- dictionaries\n",
    "\n",
    "Remember that following questions require __more than one topics__ from above."
   ]
  },
  {
   "cell_type": "markdown",
   "metadata": {},
   "source": [
    "## Ground Rules\n",
    "\n",
    "Below rules define how this works:\n",
    "\n",
    "1. Please complete these questions in class, and if needed, after class, no later than __10/27__. You should submit the completed notebook back via Github Classroom.\n",
    "2. This is neither an exam nor an assignment - I will __NOT__ grade these. This is for you to test whether you are ready to move onto the next part of the class.\n",
    "3. Please __work with your peers__. You can learn much more if you work actively with your peers, by teaching each other. If you have not started doing so, this may be the perfect opportunity.\n",
    "4. Be __active__ in this class. I want to hear your opinions/soluions to problems below. So please speak up! This is a fair learning environment.\n",
    "5. Do __not__ try to copy code from others, include the Internet. The purpose is not to complete these questions, rather to test where your strengths and weaknesses are. Do not __fake__ it!\n",
    "\n",
    "Okay, rules are clear, let's start!"
   ]
  },
  {
   "cell_type": "markdown",
   "metadata": {},
   "source": [
    "## Q1. Code Explanation Problem\n",
    "\n",
    "#### Common Characters between Two Strings\n",
    "\n",
    "I was asked to develop a function (`common_char()`) to find out what common charaters are shared between two strings. I have provided two solutions to the problem. \n",
    "\n",
    "1. In solution 1 use a _one-liner_ for loop to solve the problem. Please write out the function in multiple lines (the regular for loop with an if statement) to make sure you understand how this works;\n",
    "2. In solution 2 I used something you have never seen in this class (__python sets__). In real world you may come across codes that you have never seen. Use Google to help you understand how _sets_ work in Python (__python sets__ might be a good search term for starters). Write you understanding in comments."
   ]
  },
  {
   "cell_type": "code",
   "execution_count": 1,
   "metadata": {
    "collapsed": false
   },
   "outputs": [
    {
     "data": {
      "text/plain": [
       "['a', 'b']"
      ]
     },
     "execution_count": 1,
     "metadata": {},
     "output_type": "execute_result"
    }
   ],
   "source": [
    "s1 = 'abc'\n",
    "s2 = 'bad'\n",
    "\n",
    "# solution 1\n",
    "def common_char1(s1, s2):\n",
    "    return [c1 for c1 in s1 if c1 in s2]\n",
    "    \n",
    "common_char1(s1, s2)"
   ]
  },
  {
   "cell_type": "code",
   "execution_count": 2,
   "metadata": {
    "collapsed": false
   },
   "outputs": [
    {
     "data": {
      "text/plain": [
       "['b', 'a']"
      ]
     },
     "execution_count": 2,
     "metadata": {},
     "output_type": "execute_result"
    }
   ],
   "source": [
    "def common_char2(s1, s2):\n",
    "    return list(set(s1) & set(s2))\n",
    "\n",
    "common_char2(s1, s2)"
   ]
  },
  {
   "cell_type": "code",
   "execution_count": 97,
   "metadata": {},
   "outputs": [],
   "source": [
    "def common_char3(s1,s2):\n",
    "    '''\n",
    "    input: \n",
    "        s1 - string\n",
    "        s2 - string\n",
    "    '''\n",
    "    \n",
    "    # Create list\n",
    "    res_lst = []\n",
    "    \n",
    "    # iterate through list\n",
    "    for i in s1:\n",
    "        # check if in 2nd lsit\n",
    "        if i in s2:\n",
    "            #append if it is\n",
    "            res_lst.append(i)\n",
    "    return res_lst"
   ]
  },
  {
   "cell_type": "code",
   "execution_count": 96,
   "metadata": {},
   "outputs": [
    {
     "data": {
      "text/plain": [
       "['a', 'b']"
      ]
     },
     "execution_count": 96,
     "metadata": {},
     "output_type": "execute_result"
    }
   ],
   "source": [
    "common_char3('abc','bad')"
   ]
  },
  {
   "cell_type": "markdown",
   "metadata": {},
   "source": [
    "## Q2. Coding Problem\n",
    "\n",
    "Given any list of integers, write a function (`sort_even()`) to sort any even numbers in a sub-list, leave all odd numbers unsorted in another sub-list.\n",
    "\n",
    "#### Example:\n",
    "- sort_even([4, 3, 2, 1, 6]) --> [[2, 4, 6], [3, 1]]\n",
    "- sort_even([4, 2]) --> [[2, 4], []]\n",
    "- sort_even([3, 1] --> [[], [3, 1]]\n",
    "- sort_even([]) --> []\n",
    "\n",
    "#### HINTS:\n",
    "\n",
    "- Clearly we want to treat odd and even numbers separately - maybe two lists to hold the two parts?\n",
    "- You may want to go through the list using a loop."
   ]
  },
  {
   "cell_type": "code",
   "execution_count": 25,
   "metadata": {
    "collapsed": true
   },
   "outputs": [],
   "source": [
    "# Write your code here\n",
    "\n",
    "def sort_even(lst):\n",
    "    evens =  sorted([i for i in lst if i%2 == 0])\n",
    "    \n",
    "    if len(evens) == 0: evens = []\n",
    "    \n",
    "    if (len(evens) != len(lst)):\n",
    "        odds = [i for i in lst if i%2 == 1] \n",
    "    else:\n",
    "        odds = []\n",
    "        \n",
    "    if len(evens) == len(odds) == 0:\n",
    "        return []\n",
    "    \n",
    "    return [evens, odds]\n"
   ]
  },
  {
   "cell_type": "code",
   "execution_count": 28,
   "metadata": {},
   "outputs": [
    {
     "data": {
      "text/plain": [
       "[[2, 4], []]"
      ]
     },
     "execution_count": 28,
     "metadata": {},
     "output_type": "execute_result"
    }
   ],
   "source": [
    "sort_even([4,2])"
   ]
  },
  {
   "cell_type": "code",
   "execution_count": 29,
   "metadata": {},
   "outputs": [
    {
     "data": {
      "text/plain": [
       "[[2, 4, 6], [3, 1]]"
      ]
     },
     "execution_count": 29,
     "metadata": {},
     "output_type": "execute_result"
    }
   ],
   "source": [
    "sort_even([4,3,2,1,6])"
   ]
  },
  {
   "cell_type": "code",
   "execution_count": 30,
   "metadata": {},
   "outputs": [
    {
     "data": {
      "text/plain": [
       "[[], [3, 1]]"
      ]
     },
     "execution_count": 30,
     "metadata": {},
     "output_type": "execute_result"
    }
   ],
   "source": [
    "sort_even([3,1])"
   ]
  },
  {
   "cell_type": "code",
   "execution_count": 26,
   "metadata": {},
   "outputs": [
    {
     "data": {
      "text/plain": [
       "[]"
      ]
     },
     "execution_count": 26,
     "metadata": {},
     "output_type": "execute_result"
    }
   ],
   "source": [
    "sort_even([])"
   ]
  },
  {
   "cell_type": "markdown",
   "metadata": {},
   "source": [
    "## Q3. Coding Problem\n",
    "\n",
    "Given a list of integers, write a function(`pair_func()`) that pairs the first number in an array with the last, the second number with the second to last, etc.\n",
    "\n",
    "#### HINTS: \n",
    "- If the list has an __odd length__, __repeat__ the middle element twice for the last pair.\n",
    "- Return an empty list if the input is an empty list.\n",
    "- Note that the result is a list of lists - so the returned `result_lst` should contain sub lists called `pairs`.\n",
    "\n",
    "#### Examples:\n",
    "- pair_func([1, 2, 3, 4, 5, 6, 7]) ➞ [[1, 7], [2, 6], [3, 5], [4, 4]]\n",
    "- pair_func([1, 2, 3, 4, 5, 6]) ➞ [[1, 6], [2, 5], [3, 4]]\n",
    "- pair_func([5, 9, 8, 1, 2]) ➞ [[5, 2], [9, 1], [8, 8]]\n",
    "- pair_func([]) ➞ []"
   ]
  },
  {
   "cell_type": "code",
   "execution_count": 121,
   "metadata": {
    "collapsed": true
   },
   "outputs": [],
   "source": [
    "# write you code here\n",
    "\n",
    "def pair_func(lst):\n",
    "    fin_lst = []\n",
    "    for i in range(len(lst)):\n",
    "        if i > len(lst)//2-1:\n",
    "            if len(lst)%2 == 1:\n",
    "                fin_lst.append([lst[i],lst[i]])\n",
    "            break\n",
    "        elif(lst[i] == lst[-i-1]):\n",
    "            fin_lst.append([lst[i],lst[i]])\n",
    "        else:\n",
    "            fin_lst.append([lst[i],lst[-i-1]])\n",
    "    return fin_lst\n",
    "            "
   ]
  },
  {
   "cell_type": "code",
   "execution_count": 122,
   "metadata": {},
   "outputs": [
    {
     "data": {
      "text/plain": [
       "[[1, 7], [2, 6], [3, 5], [4, 4]]"
      ]
     },
     "execution_count": 122,
     "metadata": {},
     "output_type": "execute_result"
    }
   ],
   "source": [
    "pair_func([1, 2, 3, 4, 5, 6, 7])"
   ]
  },
  {
   "cell_type": "code",
   "execution_count": 123,
   "metadata": {},
   "outputs": [
    {
     "data": {
      "text/plain": [
       "[[1, 6], [2, 5], [3, 4]]"
      ]
     },
     "execution_count": 123,
     "metadata": {},
     "output_type": "execute_result"
    }
   ],
   "source": [
    "pair_func([1, 2, 3, 4, 5, 6])"
   ]
  },
  {
   "cell_type": "code",
   "execution_count": 124,
   "metadata": {},
   "outputs": [
    {
     "data": {
      "text/plain": [
       "[[5, 2], [9, 1], [8, 8]]"
      ]
     },
     "execution_count": 124,
     "metadata": {},
     "output_type": "execute_result"
    }
   ],
   "source": [
    "pair_func([5, 9, 8, 1, 2])"
   ]
  },
  {
   "cell_type": "code",
   "execution_count": 125,
   "metadata": {},
   "outputs": [
    {
     "data": {
      "text/plain": [
       "[]"
      ]
     },
     "execution_count": 125,
     "metadata": {},
     "output_type": "execute_result"
    }
   ],
   "source": [
    "pair_func([])"
   ]
  },
  {
   "cell_type": "markdown",
   "metadata": {},
   "source": [
    "## Q4. Coding Problem\n",
    "\n",
    "You work for a manufacturer, and have been asked to write a function (`profit_calc`) to calculate the _total profit_ made on the sales of a product.\n",
    "\n",
    "- You need to create a dictionary containing the cost price per unit (in dollars), sell price per unit (in dollars), and the starting inventory. The values in the dictionary should be __user inputs__.\n",
    "\n",
    "- Return the total profit made, rounded to the _nearest cent_ (2 digits after the decimal point). Assume __all of the inventory has been sold__.\n",
    "\n",
    "- Please insert the result from the function back to the original dictionary, use the key as `'profit'`.\n",
    "\n",
    "#### Example Dictionary:\n",
    "```python\n",
    "prod_dict = {\n",
    "  \"cost_price\": 32.67,\n",
    "  \"sell_price\": 45.00,\n",
    "  \"inventory\": 1200\n",
    "}\n",
    "```\n",
    "\n",
    "\n",
    "#### Example Output:\n",
    "```python\n",
    "# profit_calc(prod_dict) =  14796\n",
    "\n",
    "prod_dict = {\n",
    "  \"cost_price\": 32.67,\n",
    "  \"sell_price\": 45.00,\n",
    "  \"inventory\": 1200,\n",
    "  \"profit\": 14796\n",
    "}\n",
    "```\n",
    "\n",
    "#### HINT: \n",
    "$profit = (v2 - v1) \\times v3$"
   ]
  },
  {
   "cell_type": "code",
   "execution_count": 66,
   "metadata": {},
   "outputs": [
    {
     "data": {
      "text/plain": [
       "14796.0"
      ]
     },
     "execution_count": 66,
     "metadata": {},
     "output_type": "execute_result"
    }
   ],
   "source": [
    "(1200 * 45) - (1200 * 32.67)"
   ]
  },
  {
   "cell_type": "code",
   "execution_count": 127,
   "metadata": {
    "collapsed": false
   },
   "outputs": [],
   "source": [
    "# write you code here\n",
    "def profit_calc(prod_dict):\n",
    "    prod_dict['profit'] = (float(prod_dict['inventory']) * \n",
    "                           float(prod_dict['sell_price'])) - (float(prod_dict['inventory']) * float(prod_dict['cost_price']))\n",
    "    \n",
    "    return prod_dict"
   ]
  },
  {
   "cell_type": "code",
   "execution_count": 79,
   "metadata": {
    "collapsed": false
   },
   "outputs": [],
   "source": [
    "# write you code here\n",
    "def profit_calc_2(prod_dict):\n",
    "    # rounds weird so sticking with first one \n",
    "    prod_dict['profit'] = (prod_dict['sell_price'] - prod_dict['cost_price']) * prod_dict['inventory']\n",
    "    \n",
    "    return prod_dict"
   ]
  },
  {
   "cell_type": "code",
   "execution_count": 128,
   "metadata": {},
   "outputs": [
    {
     "data": {
      "text/plain": [
       "{'cost_price': 32.67, 'sell_price': 45.0, 'inventory': 1200, 'profit': 14796.0}"
      ]
     },
     "execution_count": 128,
     "metadata": {},
     "output_type": "execute_result"
    }
   ],
   "source": [
    "profit_calc({\n",
    "  \"cost_price\": 32.67,\n",
    "  \"sell_price\": 45.00,\n",
    "  \"inventory\": 1200\n",
    "})"
   ]
  },
  {
   "cell_type": "markdown",
   "metadata": {},
   "source": [
    "## Q5. Coding Problem\n",
    "\n",
    "You are tasked to write a function (`findall_lst()`) to find __all__ the indexes of the searched item in a list. \n",
    "\n",
    "We know we can use `.find()` method to search a list, but it will only return the __first__ index not __all__ of them.\n",
    "\n",
    "#### Examples: \n",
    "- findall_lst(([\"a\", \"a\", \"b\", \"a\", \"b\", \"a\"], \"a\") ➞ [0, 1, 3, 5]\n",
    "- findall_lst([1, 5, 5, 2, 7], 7) ➞ [4]\n",
    "- findall_lst([1, 5, 5, 2, 7], 8) ➞ []"
   ]
  },
  {
   "cell_type": "code",
   "execution_count": 90,
   "metadata": {},
   "outputs": [],
   "source": [
    "def findall_lst(lst, item):\n",
    "    hold = []\n",
    "    for idx, j in enumerate(lst):\n",
    "        if j == item:\n",
    "            hold.append(idx)\n",
    "    return hold"
   ]
  },
  {
   "cell_type": "code",
   "execution_count": 94,
   "metadata": {},
   "outputs": [
    {
     "data": {
      "text/plain": [
       "[0, 1, 3, 5]"
      ]
     },
     "execution_count": 94,
     "metadata": {},
     "output_type": "execute_result"
    }
   ],
   "source": [
    "findall_lst([\"a\", \"a\", \"b\", \"a\", \"b\", \"a\"], \"a\")"
   ]
  },
  {
   "cell_type": "code",
   "execution_count": 91,
   "metadata": {},
   "outputs": [
    {
     "data": {
      "text/plain": [
       "[4]"
      ]
     },
     "execution_count": 91,
     "metadata": {},
     "output_type": "execute_result"
    }
   ],
   "source": [
    "findall_lst([1, 5, 5, 2, 7], 7)"
   ]
  },
  {
   "cell_type": "code",
   "execution_count": 92,
   "metadata": {},
   "outputs": [
    {
     "data": {
      "text/plain": [
       "[]"
      ]
     },
     "execution_count": 92,
     "metadata": {},
     "output_type": "execute_result"
    }
   ],
   "source": [
    "findall_lst([1, 5, 5, 2, 7], 8)"
   ]
  },
  {
   "cell_type": "code",
   "execution_count": null,
   "metadata": {
    "collapsed": false
   },
   "outputs": [],
   "source": [
    "# create variables to hold the list for search as `my_lst`\n",
    "# and to hold the element to search as `my_search`\n",
    "    \n"
   ]
  },
  {
   "cell_type": "code",
   "execution_count": null,
   "metadata": {
    "collapsed": true
   },
   "outputs": [],
   "source": [
    "# since the results are lists\n",
    "# initialize an empty list `search_results` to hold results\n"
   ]
  },
  {
   "cell_type": "code",
   "execution_count": null,
   "metadata": {
    "collapsed": true
   },
   "outputs": [],
   "source": [
    "# since we need 'all' of something, we need a loop\n",
    "# iterate through `my_lst` to search for `my_search`\n",
    "# remember to retrive the index(es) from the list\n",
    "# update the `search_results` when you have a hit (found) - you should consider using `.append()`\n",
    "\n"
   ]
  },
  {
   "cell_type": "code",
   "execution_count": null,
   "metadata": {
    "collapsed": true
   },
   "outputs": [],
   "source": [
    "# Put everything together as a function\n"
   ]
  },
  {
   "cell_type": "markdown",
   "metadata": {},
   "source": [
    "## Q6. Coding Problem\n",
    "\n",
    "### The Karaca's Encryption Algorithm:\n",
    "\n",
    "Make a function (`karaca_encoder`) that encrypts a given input with these steps:\n",
    "\n",
    "- Input: `'Apple'` # you should test that all inputs are strings\n",
    "- Step 1: set everything to lowercase and reverse the string `'elppa'`, code snippet below can help with reversing a string:\n",
    "```python\n",
    "s = 'abc'\n",
    "''.join(reversed(s))  # 'cba'\n",
    "```\n",
    "\n",
    "- Step 2: replace all vowels using following table, so the input becomes `'1lpp0'`:\n",
    "\n",
    "| vowel | code |\n",
    "| ----- | ---- |\n",
    "| a | 0 |\n",
    "| e | 1 |\n",
    "| i | 2 |\n",
    "| o | 3 |\n",
    "| u | 4 |\n",
    "\n",
    "\n",
    "- Step 3: add `'aca'` to the end of the string, so the string becomes `'1lpp0aca'`\n",
    "- Voila! Return this string `'1lpp0aca'` as the encoded.\n",
    "\n",
    "#### Examples:\n",
    "- karaca_encoder(\"banana\") ➞ \"0n0n0baca\"\n",
    "- karaca_encoder(\"karaca\") ➞ \"0c0r0kaca\"\n",
    "- karaca_encoder(\"burak\") ➞ \"k0r3baca\"\n",
    "- karaca_encoder(\"alpaca\") ➞ \"0c0pl0aca\""
   ]
  },
  {
   "cell_type": "code",
   "execution_count": 134,
   "metadata": {
    "collapsed": true
   },
   "outputs": [],
   "source": [
    "# Write your code here\n",
    "\n",
    "encoding = {'a':0,\n",
    "           'e':1,\n",
    "           'i':2,\n",
    "           'o':3,\n",
    "           'u':4\n",
    "           }\n",
    "\n",
    "def karaca_encoder(s, encoding):\n",
    "    \n",
    "    if type(s) != str:\n",
    "        return 'Please submit strings'\n",
    "    \n",
    "    s = str.lower(''.join(reversed(s)))\n",
    "    \n",
    "    encoded = ''\n",
    "    \n",
    "    for i in s:\n",
    "        if i in encoding:\n",
    "            encoded += str(encoding[i])\n",
    "        else:\n",
    "            encoded += i\n",
    "    \n",
    "    return encoded + 'aca'\n",
    "    "
   ]
  },
  {
   "cell_type": "code",
   "execution_count": 101,
   "metadata": {},
   "outputs": [
    {
     "data": {
      "text/plain": [
       "'0n0n0baca'"
      ]
     },
     "execution_count": 101,
     "metadata": {},
     "output_type": "execute_result"
    }
   ],
   "source": [
    "karaca_encoder('banana', encoding)"
   ]
  },
  {
   "cell_type": "code",
   "execution_count": 102,
   "metadata": {},
   "outputs": [
    {
     "data": {
      "text/plain": [
       "'1lpp0aca'"
      ]
     },
     "execution_count": 102,
     "metadata": {},
     "output_type": "execute_result"
    }
   ],
   "source": [
    "karaca_encoder('Apple', encoding)"
   ]
  },
  {
   "cell_type": "code",
   "execution_count": 135,
   "metadata": {},
   "outputs": [
    {
     "data": {
      "text/plain": [
       "'Please submit strings'"
      ]
     },
     "execution_count": 135,
     "metadata": {},
     "output_type": "execute_result"
    }
   ],
   "source": [
    "karaca_encoder(123, encoding)"
   ]
  },
  {
   "cell_type": "code",
   "execution_count": 136,
   "metadata": {},
   "outputs": [
    {
     "data": {
      "text/plain": [
       "'Please submit strings'"
      ]
     },
     "execution_count": 136,
     "metadata": {},
     "output_type": "execute_result"
    }
   ],
   "source": [
    "karaca_encoder([123], encoding)"
   ]
  },
  {
   "cell_type": "markdown",
   "metadata": {},
   "source": [
    "# Q7. Coding Problem\n",
    "## Closed Brackets Detector - Extra Problem\n",
    "_if you want a little tease, this is a real interview question_. This problem will require you to put everything you learned so far in this class together.\n",
    "\n",
    "You have noticed that Jupyter can help you detect unclosed parentheses, for instance:\n",
    "```python\n",
    "list(str(type(x for x in range(l))) \n",
    "```\n",
    "will give you an error.\n",
    "\n",
    "In this question, you are going to replicate a simpler example of it.\n",
    "\n",
    "Your task in this exercise is as follows (two functions, one embed in another):\n",
    "\n",
    "1. Create a function that generates a string with N opening brackets (`[`) and N closing brackets (`]`), in some arbitrary order.\n",
    "2. Create a function that determines whether the generated string is balanced; that is, whether it consists entirely of pairs of opening/closing brackets (in that order), none of which mis-nest.\n",
    "\n",
    "Requirements:\n",
    "* Your test sequence of brackets need to be (`2,20`) digits long.\n",
    "* You need to generate at least `8` sequences \n",
    "\n",
    "Expected Output:\n",
    "```\n",
    "   []        OK   ][        NOT OK\n",
    "   [][]      OK   ][][      NOT OK\n",
    "   [[][]]    OK   []][[]    NOT OK\n",
    "```"
   ]
  },
  {
   "cell_type": "markdown",
   "metadata": {},
   "source": []
  },
  {
   "cell_type": "code",
   "execution_count": 137,
   "metadata": {},
   "outputs": [],
   "source": [
    "import random"
   ]
  },
  {
   "cell_type": "code",
   "execution_count": 138,
   "metadata": {},
   "outputs": [],
   "source": [
    "def gen_paren():\n",
    "    fin_parens = ''\n",
    "    num = random.randint(2,20)\n",
    "    \n",
    "    for i in range(num):\n",
    "        if random.randint(0,20) % 2 == 0:\n",
    "            fin_parens += '['\n",
    "        else:\n",
    "            fin_parens += ']'\n",
    "    \n",
    "    return fin_parens"
   ]
  },
  {
   "cell_type": "code",
   "execution_count": 150,
   "metadata": {
    "collapsed": true
   },
   "outputs": [],
   "source": [
    "# Write your code here\n",
    "\n",
    "def paren_check(parens):\n",
    "    '''\n",
    "    Keep track of all left handed and then the matching right handed ones to it. If there are ever more rights than lefts\n",
    "        then it is illegal\n",
    "    '''\n",
    "    print('Input was ' + parens)\n",
    "    \n",
    "    if parens[0] != '[':\n",
    "        return 'NOT OK'\n",
    "    \n",
    "    left_check = 0\n",
    "    right_check = 0\n",
    "    \n",
    "    \n",
    "    for i in parens:\n",
    "        if i == '[':\n",
    "            left_check +=1\n",
    "        elif i == ']':\n",
    "            right_check += 1\n",
    "            if right_check > left_check:\n",
    "                return 'NOT OK'\n",
    "    \n",
    "    if left_check == right_check: return 'OK'\n",
    "    else:\n",
    "        return 'NOT OK'"
   ]
  },
  {
   "cell_type": "code",
   "execution_count": 151,
   "metadata": {},
   "outputs": [
    {
     "name": "stdout",
     "output_type": "stream",
     "text": [
      "Input was []][[]\n"
     ]
    },
    {
     "data": {
      "text/plain": [
       "'NOT OK'"
      ]
     },
     "execution_count": 151,
     "metadata": {},
     "output_type": "execute_result"
    }
   ],
   "source": [
    "paren_check('[]][[]')"
   ]
  },
  {
   "cell_type": "code",
   "execution_count": 152,
   "metadata": {},
   "outputs": [
    {
     "name": "stdout",
     "output_type": "stream",
     "text": [
      "Input was [[[[[[]\n"
     ]
    },
    {
     "data": {
      "text/plain": [
       "'NOT OK'"
      ]
     },
     "execution_count": 152,
     "metadata": {},
     "output_type": "execute_result"
    }
   ],
   "source": [
    "paren_check('[[[[[[]')"
   ]
  },
  {
   "cell_type": "code",
   "execution_count": 153,
   "metadata": {},
   "outputs": [
    {
     "name": "stdout",
     "output_type": "stream",
     "text": [
      "Input was []\n"
     ]
    },
    {
     "data": {
      "text/plain": [
       "'OK'"
      ]
     },
     "execution_count": 153,
     "metadata": {},
     "output_type": "execute_result"
    }
   ],
   "source": [
    "paren_check('[]')"
   ]
  },
  {
   "cell_type": "code",
   "execution_count": 154,
   "metadata": {},
   "outputs": [
    {
     "name": "stdout",
     "output_type": "stream",
     "text": [
      "Input was [[[[[]]]]]\n"
     ]
    },
    {
     "data": {
      "text/plain": [
       "'OK'"
      ]
     },
     "execution_count": 154,
     "metadata": {},
     "output_type": "execute_result"
    }
   ],
   "source": [
    "paren_check('[[[[[]]]]]')"
   ]
  },
  {
   "cell_type": "code",
   "execution_count": null,
   "metadata": {},
   "outputs": [],
   "source": []
  },
  {
   "cell_type": "code",
   "execution_count": 160,
   "metadata": {},
   "outputs": [
    {
     "name": "stdout",
     "output_type": "stream",
     "text": [
      "Input was ]][[][][[]\n",
      "NOT OK\n",
      "Input was ][[[][[\n",
      "NOT OK\n",
      "Input was [[[[[[[[[][]][[]][[\n",
      "NOT OK\n",
      "Input was ][][][]]]][[[\n",
      "NOT OK\n",
      "Input was [[[]][[]]\n",
      "NOT OK\n",
      "Input was []][][[][[]]]][\n",
      "NOT OK\n",
      "Input was []\n",
      "OK\n",
      "Input was ]][[[[]]][[[][[][]\n",
      "NOT OK\n"
     ]
    }
   ],
   "source": [
    "for i in range(8):\n",
    "    print(paren_check(gen_paren()))"
   ]
  },
  {
   "cell_type": "code",
   "execution_count": 161,
   "metadata": {},
   "outputs": [
    {
     "name": "stdout",
     "output_type": "stream",
     "text": [
      "Input was [[[\n",
      "NOT OK\n",
      "Input was [][[[][[[[\n",
      "NOT OK\n",
      "Input was [[]]][[][]\n",
      "NOT OK\n",
      "Input was ][][[[][]]]]][[[[][]\n",
      "NOT OK\n",
      "Input was ]]]]]]][]]\n",
      "NOT OK\n",
      "Input was ][[[\n",
      "NOT OK\n",
      "Input was ]]\n",
      "NOT OK\n",
      "Input was [][][]]]][[\n",
      "NOT OK\n"
     ]
    }
   ],
   "source": [
    "for i in range(8):\n",
    "    print(paren_check(gen_paren()))"
   ]
  }
 ],
 "metadata": {
  "kernelspec": {
   "display_name": "Python 3",
   "language": "python",
   "name": "python3"
  },
  "language_info": {
   "codemirror_mode": {
    "name": "ipython",
    "version": 3
   },
   "file_extension": ".py",
   "mimetype": "text/x-python",
   "name": "python",
   "nbconvert_exporter": "python",
   "pygments_lexer": "ipython3",
   "version": "3.6.7"
  }
 },
 "nbformat": 4,
 "nbformat_minor": 2
}
